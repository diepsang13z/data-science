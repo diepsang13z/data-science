{
 "cells": [
  {
   "cell_type": "markdown",
   "id": "148a881c-9662-4025-8990-587da4c72e43",
   "metadata": {
    "panel-layout": {
     "height": 60.59375,
     "visible": true,
     "width": 100
    }
   },
   "source": [
    "# Instruction"
   ]
  },
  {
   "cell_type": "markdown",
   "id": "2a9e79c7-d78a-4480-9d5e-33d079c816bd",
   "metadata": {
    "panel-layout": {
     "height": 68.28125,
     "visible": true,
     "width": 100
    }
   },
   "source": [
    "Pandas is a popular open-source data manipulation and analysis library for the Python programming language. It provides a powerful and flexible set of tools for working with structured data, making it a fundamental tool for data scientists, analysts and engineers."
   ]
  },
  {
   "cell_type": "markdown",
   "id": "cfce98ad-6f6f-4610-b2f2-4863575b4279",
   "metadata": {
    "panel-layout": {
     "height": 68.28125,
     "visible": true,
     "width": 100
    }
   },
   "source": [
    "Pandas is designed to handle data in various formats, such as tabular data, time series data, and more, making it an essential part of the data procssing workflow in many industries."
   ]
  },
  {
   "cell_type": "markdown",
   "id": "9f71ccb2-681b-4135-97a0-d0a715cfdd1b",
   "metadata": {},
   "source": [
    "# Data Structures"
   ]
  },
  {
   "cell_type": "markdown",
   "id": "a3e88c2e-6255-4232-922a-d44306f0fd9e",
   "metadata": {},
   "source": [
    "Pandas offers two primary data structures - DataFrame and Series.\n",
    "1. A DataFrame is a two-dimensional, size-mutable, and potentially heterogeneous tabular data structure\n",
    "with labeled axes (rows and columns).\n",
    "2. A Series is a one-dimensional labeled array, essentially a single column or row of data."
   ]
  },
  {
   "cell_type": "markdown",
   "id": "fa9ea20b-bbab-4e72-95d5-aa03e03990fc",
   "metadata": {},
   "source": [
    "**Data Import and Export**: Pandas makes it easy to read data from various sources, including CSV files, Excel\n",
    "spreadsheets, SQL databases, and more. It can also export data to these formats, enabling seamless data\n",
    "exchange.\n",
    "\n",
    "**Data Merging and Joining**: You can combine multiple DataFrames using methods like merge and join, similar\n",
    "to SQL operations, to create more complex datasets from different sources.\n",
    "Efficient Indexing: Pandas provides efficient indexing and selection methods, allowing you to access specific\n",
    "rows and columns of data quickly.\n",
    "\n",
    "**Custom Data Structures**: You can create custom data structures and manipulate data in ways that suit your\n",
    "specific needs, extending Pandas' capabilities."
   ]
  },
  {
   "cell_type": "markdown",
   "id": "7fd25bf8-de80-4ea8-b4c0-dd1df38e1534",
   "metadata": {},
   "source": [
    "## Series Attributes and Methods"
   ]
  },
  {
   "cell_type": "markdown",
   "id": "89a200f0-41dd-4b15-af06-0fa073991f4b",
   "metadata": {},
   "source": [
    "Pandas Series come with various attributes and methods to help you manipulate and analyze data effectively, including:\n",
    "- values: Returns the Series data as a NumPy array.\n",
    "- index: Returns the index (labels) of the Series.\n",
    "- shape: Returns a tuple representing the dimensions of the Series.\n",
    "- size: Returns the number of elements in the Series.\n",
    "- mean(), sum(), min(), max(): Calculate summary statistics of the data.\n",
    "- unique(), nunique(): Get unique values or the number of unique values.\n",
    "- sort_values(), sort_index(): Sort the Series by values or index labels.\n",
    "- isnull(), notnull(): Check for missing (NaN) or non-missing values.\n",
    "- apply(): Apply a custom function to each element of the Series."
   ]
  },
  {
   "cell_type": "markdown",
   "id": "99cf94b3-1fc1-469b-9950-0f13bf942a25",
   "metadata": {},
   "source": [
    "## DataFrame Attributes and Methods"
   ]
  },
  {
   "cell_type": "markdown",
   "id": "29e880cb-cc54-4203-ba5d-3e3c542d4183",
   "metadata": {},
   "source": [
    "DataFrames provide numerous attributes and methods for data manipulation and analysis, including:\n",
    "\n",
    "- shape: Returns the dimensions (number of rows and columns) of the DataFrame.\n",
    "- info(): Provides a summary of the DataFrame, including data types and non-null counts.\n",
    "- describe(): Generates summary statistics for numerical columns.\n",
    "- head(), tail(): Displays the first or last n rows of the DataFrame.\n",
    "- mean(), sum(), min(), max(): Calculate summary statistics for columns.\n",
    "- sort_values(): Sort the DataFrame by one or more columns.\n",
    "- groupby(): Group data based on specific columns for aggregation.\n",
    "- fillna(), drop(), rename(): Handle missing values, drop columns, or rename columns.\n",
    "- apply(): Apply a function to each element, row, or column of the DataFrame."
   ]
  }
 ],
 "metadata": {
  "kernelspec": {
   "display_name": "Python 3 (ipykernel)",
   "language": "python",
   "name": "python3"
  },
  "language_info": {
   "codemirror_mode": {
    "name": "ipython",
    "version": 3
   },
   "file_extension": ".py",
   "mimetype": "text/x-python",
   "name": "python",
   "nbconvert_exporter": "python",
   "pygments_lexer": "ipython3",
   "version": "3.12.4"
  },
  "panel-cell-order": [
   "148a881c-9662-4025-8990-587da4c72e43",
   "2a9e79c7-d78a-4480-9d5e-33d079c816bd",
   "cfce98ad-6f6f-4610-b2f2-4863575b4279"
  ]
 },
 "nbformat": 4,
 "nbformat_minor": 5
}
