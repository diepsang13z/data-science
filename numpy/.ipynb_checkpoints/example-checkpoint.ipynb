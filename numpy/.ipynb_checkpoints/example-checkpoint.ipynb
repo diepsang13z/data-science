{
 "cells": [
  {
   "cell_type": "markdown",
   "id": "46775e7e-c702-4cb0-b95f-a0b9fdbfaf91",
   "metadata": {},
   "source": [
    "# Numpy"
   ]
  },
  {
   "cell_type": "code",
   "execution_count": 7,
   "id": "d38ab595-cc77-4274-beb4-d39929d6e182",
   "metadata": {},
   "outputs": [],
   "source": [
    "import numpy as np"
   ]
  },
  {
   "cell_type": "markdown",
   "id": "fd2ea365-b5d3-4da6-8e4f-4256a5b46485",
   "metadata": {},
   "source": [
    "## Array"
   ]
  },
  {
   "cell_type": "markdown",
   "id": "e946e003-f1d5-44ce-b1cc-c9a22aeb93b2",
   "metadata": {},
   "source": [
    "### 1D array"
   ]
  },
  {
   "cell_type": "code",
   "execution_count": 9,
   "id": "9769e09a-237a-4454-b08d-514231efb03b",
   "metadata": {},
   "outputs": [
    {
     "data": {
      "text/plain": [
       "array([1, 2, 3, 4])"
      ]
     },
     "execution_count": 9,
     "metadata": {},
     "output_type": "execute_result"
    }
   ],
   "source": [
    "np.array([1, 2, 3, 4])"
   ]
  },
  {
   "cell_type": "code",
   "execution_count": 11,
   "id": "aba55367-a51f-489b-a540-fdc04389b8bb",
   "metadata": {},
   "outputs": [
    {
     "data": {
      "text/plain": [
       "array([3.14, 2.  , 3.  , 4.  ])"
      ]
     },
     "execution_count": 11,
     "metadata": {},
     "output_type": "execute_result"
    }
   ],
   "source": [
    "np.array([3.14, 2, 3, 4])"
   ]
  },
  {
   "cell_type": "code",
   "execution_count": 13,
   "id": "9e64440c-f4e5-43ac-ad85-5c75357e9558",
   "metadata": {},
   "outputs": [
    {
     "data": {
      "text/plain": [
       "array([1., 2., 3., 4.], dtype=float32)"
      ]
     },
     "execution_count": 13,
     "metadata": {},
     "output_type": "execute_result"
    }
   ],
   "source": [
    "np.array([1, 2, 3, 4], dtype='float32')"
   ]
  },
  {
   "cell_type": "code",
   "execution_count": 17,
   "id": "0e53a327-9261-4fc5-b6fd-af5237a907e7",
   "metadata": {},
   "outputs": [],
   "source": [
    "a = np.array([1, 2, 3, 4])"
   ]
  },
  {
   "cell_type": "code",
   "execution_count": 19,
   "id": "b5924fb1-b675-4f08-aa66-f34d2f7d1c36",
   "metadata": {},
   "outputs": [
    {
     "data": {
      "text/plain": [
       "numpy.ndarray"
      ]
     },
     "execution_count": 19,
     "metadata": {},
     "output_type": "execute_result"
    }
   ],
   "source": [
    "type(a)"
   ]
  },
  {
   "cell_type": "markdown",
   "id": "774ccbda-6900-4321-a3f5-24b96c1ead12",
   "metadata": {},
   "source": [
    "a.shape"
   ]
  },
  {
   "cell_type": "code",
   "execution_count": 41,
   "id": "4ede23ea-5b3a-413d-ad46-6a3c3d3653aa",
   "metadata": {},
   "outputs": [
    {
     "data": {
      "text/plain": [
       "1"
      ]
     },
     "execution_count": 41,
     "metadata": {},
     "output_type": "execute_result"
    }
   ],
   "source": [
    "a.ndim"
   ]
  },
  {
   "cell_type": "code",
   "execution_count": 47,
   "id": "1de4dafe-7eea-49a6-8e9b-19b6550c36d4",
   "metadata": {},
   "outputs": [
    {
     "data": {
      "text/plain": [
       "4"
      ]
     },
     "execution_count": 47,
     "metadata": {},
     "output_type": "execute_result"
    }
   ],
   "source": [
    "a.size"
   ]
  },
  {
   "cell_type": "markdown",
   "id": "b7819814-4871-4ab7-9db1-36eb206b088f",
   "metadata": {},
   "source": [
    "### 2D array"
   ]
  },
  {
   "cell_type": "code",
   "execution_count": 31,
   "id": "33c65b8a-6e24-458d-b99a-ce683fa0c8d5",
   "metadata": {},
   "outputs": [],
   "source": [
    "A = np.array([[1, 2, 3],\n",
    "              [4, 5, 6]])"
   ]
  },
  {
   "cell_type": "code",
   "execution_count": 29,
   "id": "a5638310-aa90-41f1-a067-e618ebd300c3",
   "metadata": {},
   "outputs": [
    {
     "data": {
      "text/plain": [
       "numpy.ndarray"
      ]
     },
     "execution_count": 29,
     "metadata": {},
     "output_type": "execute_result"
    }
   ],
   "source": [
    "type(A)"
   ]
  },
  {
   "cell_type": "code",
   "execution_count": 35,
   "id": "8f532136-8cd8-4516-9f01-1dabd2331488",
   "metadata": {},
   "outputs": [
    {
     "data": {
      "text/plain": [
       "(2, 3)"
      ]
     },
     "execution_count": 35,
     "metadata": {},
     "output_type": "execute_result"
    }
   ],
   "source": [
    "A.shape"
   ]
  },
  {
   "cell_type": "code",
   "execution_count": 39,
   "id": "6f789d28-427f-443b-b9d2-1c9725d98a12",
   "metadata": {},
   "outputs": [
    {
     "data": {
      "text/plain": [
       "2"
      ]
     },
     "execution_count": 39,
     "metadata": {},
     "output_type": "execute_result"
    }
   ],
   "source": [
    "A.ndim"
   ]
  },
  {
   "cell_type": "code",
   "execution_count": 45,
   "id": "98412889-5e43-4eb7-8adf-b5948e91e613",
   "metadata": {},
   "outputs": [
    {
     "data": {
      "text/plain": [
       "6"
      ]
     },
     "execution_count": 45,
     "metadata": {},
     "output_type": "execute_result"
    }
   ],
   "source": [
    "A.size"
   ]
  },
  {
   "cell_type": "markdown",
   "id": "1742fd8d-a90a-41f4-92a8-d67d4effd386",
   "metadata": {},
   "source": [
    "## Create arrays from scratch"
   ]
  },
  {
   "cell_type": "markdown",
   "id": "3d6d5783-1b66-4654-beab-55e5fec9a33d",
   "metadata": {},
   "source": [
    "### `zeros`"
   ]
  },
  {
   "cell_type": "code",
   "execution_count": 64,
   "id": "b8a71076-e754-4c30-a8f6-8b52e35f81e0",
   "metadata": {},
   "outputs": [
    {
     "data": {
      "text/plain": [
       "array([[0, 0, 0, 0],\n",
       "       [0, 0, 0, 0],\n",
       "       [0, 0, 0, 0],\n",
       "       [0, 0, 0, 0],\n",
       "       [0, 0, 0, 0]])"
      ]
     },
     "execution_count": 64,
     "metadata": {},
     "output_type": "execute_result"
    }
   ],
   "source": [
    "np.zeros(shape=(5, 4), dtype='int')"
   ]
  },
  {
   "cell_type": "markdown",
   "id": "584d46fd-6e6a-4519-83cb-70f0dfd64c85",
   "metadata": {},
   "source": [
    "### `ones`"
   ]
  },
  {
   "cell_type": "code",
   "execution_count": 67,
   "id": "1d187285-edf4-4776-9b5f-20e9394543e7",
   "metadata": {},
   "outputs": [
    {
     "data": {
      "text/plain": [
       "array([[1., 1., 1., 1., 1.],\n",
       "       [1., 1., 1., 1., 1.],\n",
       "       [1., 1., 1., 1., 1.]])"
      ]
     },
     "execution_count": 67,
     "metadata": {},
     "output_type": "execute_result"
    }
   ],
   "source": [
    "np.ones(shape=(3, 5), dtype='float')"
   ]
  },
  {
   "cell_type": "markdown",
   "id": "b1f7bd69-a923-46da-b8c5-8644c8af0dcd",
   "metadata": {},
   "source": [
    "### `arange`"
   ]
  },
  {
   "cell_type": "code",
   "execution_count": 70,
   "id": "50667499-a2c2-4f3d-b079-28817ced83eb",
   "metadata": {},
   "outputs": [
    {
     "data": {
      "text/plain": [
       "array([ 0,  2,  4,  6,  8, 10, 12, 14, 16, 18])"
      ]
     },
     "execution_count": 70,
     "metadata": {},
     "output_type": "execute_result"
    }
   ],
   "source": [
    "np.arange(start=0, stop=20, step=2)"
   ]
  },
  {
   "cell_type": "markdown",
   "id": "c74a7d0c-b1c8-4cc8-a2e8-d53781701c3a",
   "metadata": {},
   "source": [
    "### `full`"
   ]
  },
  {
   "cell_type": "code",
   "execution_count": 81,
   "id": "a9b7e45f-4860-4155-87d9-831fa43db24b",
   "metadata": {},
   "outputs": [
    {
     "data": {
      "text/plain": [
       "array([[5, 5, 5, 5],\n",
       "       [5, 5, 5, 5],\n",
       "       [5, 5, 5, 5]])"
      ]
     },
     "execution_count": 81,
     "metadata": {},
     "output_type": "execute_result"
    }
   ],
   "source": [
    "np.full(shape=(3, 4), fill_value=5)"
   ]
  },
  {
   "cell_type": "markdown",
   "id": "f29ea260-3b23-4ace-a507-ba61765bdb64",
   "metadata": {},
   "source": [
    "### `linspace`"
   ]
  },
  {
   "cell_type": "code",
   "execution_count": 84,
   "id": "131a112f-bfbe-46ba-80bb-57d85a94daaa",
   "metadata": {},
   "outputs": [
    {
     "data": {
      "text/plain": [
       "array([0.  , 0.25, 0.5 , 0.75, 1.  ])"
      ]
     },
     "execution_count": 84,
     "metadata": {},
     "output_type": "execute_result"
    }
   ],
   "source": [
    "np.linspace(start=0, stop=1, num=5) "
   ]
  },
  {
   "cell_type": "markdown",
   "id": "c6129607-1293-40a0-99e5-8427393df495",
   "metadata": {},
   "source": [
    "## random"
   ]
  },
  {
   "cell_type": "code",
   "execution_count": 152,
   "id": "7916bf85-d5ae-4f51-86bd-a646d9c282fe",
   "metadata": {},
   "outputs": [
    {
     "data": {
      "text/plain": [
       "array([[0.15112745, 0.39887629, 0.2408559 , 0.34345601],\n",
       "       [0.51312815, 0.66662455, 0.10590849, 0.13089495],\n",
       "       [0.32198061, 0.66156434, 0.84650623, 0.55325734],\n",
       "       [0.85445249, 0.38483781, 0.3167879 , 0.35426468]])"
      ]
     },
     "execution_count": 152,
     "metadata": {},
     "output_type": "execute_result"
    }
   ],
   "source": [
    "np.random.random(size=(4, 4))"
   ]
  },
  {
   "cell_type": "code",
   "execution_count": 172,
   "id": "50590221-f142-468b-8793-440b7dfd5453",
   "metadata": {},
   "outputs": [
    {
     "data": {
      "text/plain": [
       "array([[0.7503787 , 0.69340324, 0.51176338, 0.46426806, 0.56843069],\n",
       "       [0.30254945, 0.49730879, 0.68326291, 0.91669867, 0.10892895],\n",
       "       [0.49549179, 0.23283593, 0.43686066, 0.75154299, 0.48089213],\n",
       "       [0.79772841, 0.28270293, 0.43341824, 0.00975735, 0.34079598]])"
      ]
     },
     "execution_count": 172,
     "metadata": {},
     "output_type": "execute_result"
    }
   ],
   "source": [
    "np.random.rand(4, 5)"
   ]
  },
  {
   "cell_type": "code",
   "execution_count": 164,
   "id": "c283955a-fcf2-4579-8983-06e142bdd617",
   "metadata": {},
   "outputs": [
    {
     "data": {
      "text/plain": [
       "array([[0.69646919, 0.28613933, 0.22685145, 0.55131477],\n",
       "       [0.71946897, 0.42310646, 0.9807642 , 0.68482974],\n",
       "       [0.4809319 , 0.39211752, 0.34317802, 0.72904971],\n",
       "       [0.43857224, 0.0596779 , 0.39804426, 0.73799541]])"
      ]
     },
     "execution_count": 164,
     "metadata": {},
     "output_type": "execute_result"
    }
   ],
   "source": [
    "np.random.seed(123)\n",
    "np.random.random(size=(4, 4))"
   ]
  },
  {
   "cell_type": "code",
   "execution_count": 166,
   "id": "d089396f-9e66-4ad2-8488-8d9aec2766bd",
   "metadata": {},
   "outputs": [
    {
     "data": {
      "text/plain": [
       "array([[-0.44398196, -0.43435128,  2.20593008],\n",
       "       [ 2.18678609,  1.0040539 ,  0.3861864 ],\n",
       "       [ 0.73736858,  1.49073203, -0.93583387]])"
      ]
     },
     "execution_count": 166,
     "metadata": {},
     "output_type": "execute_result"
    }
   ],
   "source": [
    "np.random.normal(loc=0, scale=1, size=(3, 3))"
   ]
  },
  {
   "cell_type": "code",
   "execution_count": 170,
   "id": "28adbc96-057f-4d9f-b4ae-b324a3a4b8b4",
   "metadata": {},
   "outputs": [
    {
     "data": {
      "text/plain": [
       "array([[3, 4, 3, 4, 3],\n",
       "       [3, 4, 3, 4, 3],\n",
       "       [4, 3, 3, 3, 3],\n",
       "       [4, 3, 3, 4, 4]], dtype=int32)"
      ]
     },
     "execution_count": 170,
     "metadata": {},
     "output_type": "execute_result"
    }
   ],
   "source": [
    "np.random.randint(low=3, high=5, size=(4, 5))"
   ]
  },
  {
   "cell_type": "markdown",
   "id": "835bdbad-abb3-4671-aec9-e301eeabcb49",
   "metadata": {},
   "source": [
    "## Indexing & Slicing"
   ]
  },
  {
   "cell_type": "markdown",
   "id": "1581bd67-c5e5-4fe0-8392-5add4581c803",
   "metadata": {},
   "source": [
    "### Indexing 1D array"
   ]
  },
  {
   "cell_type": "code",
   "execution_count": 237,
   "id": "64924784-5ae9-49ba-8b9d-c4a08cb94fb0",
   "metadata": {},
   "outputs": [],
   "source": [
    "np.random.seed(10)\n",
    "x = np.random.randint(20, size=6)"
   ]
  },
  {
   "cell_type": "code",
   "execution_count": 247,
   "id": "7cb7214d-fed3-4e36-bc64-b8d3b5deba0a",
   "metadata": {},
   "outputs": [
    {
     "data": {
      "text/plain": [
       "array([ 9,  4, 15,  0, 17, 16], dtype=int32)"
      ]
     },
     "execution_count": 247,
     "metadata": {},
     "output_type": "execute_result"
    }
   ],
   "source": [
    "x"
   ]
  },
  {
   "cell_type": "code",
   "execution_count": 249,
   "id": "9a6f7662-758a-4c5d-b8ff-bde8b05f3819",
   "metadata": {},
   "outputs": [
    {
     "data": {
      "text/plain": [
       "(np.int32(9), np.int32(17), np.int32(16))"
      ]
     },
     "execution_count": 249,
     "metadata": {},
     "output_type": "execute_result"
    }
   ],
   "source": [
    "x[0], x[4], x[-1]"
   ]
  },
  {
   "cell_type": "markdown",
   "id": "61449a37-50a2-430e-81df-0f111ad8db8b",
   "metadata": {},
   "source": [
    "### Indexing 2D array"
   ]
  },
  {
   "cell_type": "code",
   "execution_count": 255,
   "id": "bdbe63dd-a501-4f76-841c-5b06275712d5",
   "metadata": {},
   "outputs": [],
   "source": [
    "np.random.seed(10)\n",
    "X = np.random.randint(10, size=(3, 4))"
   ]
  },
  {
   "cell_type": "code",
   "execution_count": 265,
   "id": "6a90a5ce-5954-4ac2-b788-3a1a6f5f747f",
   "metadata": {},
   "outputs": [
    {
     "data": {
      "text/plain": [
       "array([[9, 4, 0, 1],\n",
       "       [9, 0, 1, 8],\n",
       "       [9, 0, 8, 6]], dtype=int32)"
      ]
     },
     "execution_count": 265,
     "metadata": {},
     "output_type": "execute_result"
    }
   ],
   "source": [
    "X"
   ]
  },
  {
   "cell_type": "code",
   "execution_count": 295,
   "id": "0af45b03-f7cf-4f38-9209-3784caab7a6d",
   "metadata": {},
   "outputs": [
    {
     "data": {
      "text/plain": [
       "(np.int32(9), np.int32(9), np.int32(8))"
      ]
     },
     "execution_count": 295,
     "metadata": {},
     "output_type": "execute_result"
    }
   ],
   "source": [
    "X[0, 0], X[1, 0], X[2, 2]"
   ]
  },
  {
   "cell_type": "markdown",
   "id": "2844a561-9326-46d6-9950-ebab2cb359c8",
   "metadata": {},
   "source": [
    "### Slicing\n",
    "`x[start:stop:step]`"
   ]
  },
  {
   "cell_type": "code",
   "execution_count": 312,
   "id": "954b5f1b-bb49-4b6a-9b7c-3c3164b7647d",
   "metadata": {},
   "outputs": [
    {
     "data": {
      "text/plain": [
       "array([ 9,  4, 15,  0, 17, 16], dtype=int32)"
      ]
     },
     "execution_count": 312,
     "metadata": {},
     "output_type": "execute_result"
    }
   ],
   "source": [
    "x"
   ]
  },
  {
   "cell_type": "code",
   "execution_count": 314,
   "id": "2fd11b02-ff3d-4789-a892-b30055aa82f5",
   "metadata": {},
   "outputs": [
    {
     "data": {
      "text/plain": [
       "array([ 9,  4, 15], dtype=int32)"
      ]
     },
     "execution_count": 314,
     "metadata": {},
     "output_type": "execute_result"
    }
   ],
   "source": [
    "x[0:3]"
   ]
  },
  {
   "cell_type": "code",
   "execution_count": 316,
   "id": "84c2e423-f8fc-405c-919e-314216d0091a",
   "metadata": {},
   "outputs": [
    {
     "data": {
      "text/plain": [
       "array([15,  0], dtype=int32)"
      ]
     },
     "execution_count": 316,
     "metadata": {},
     "output_type": "execute_result"
    }
   ],
   "source": [
    "x[2:4]"
   ]
  },
  {
   "cell_type": "code",
   "execution_count": 318,
   "id": "02cdc22b-b694-4b60-88f6-642c21e76f46",
   "metadata": {},
   "outputs": [
    {
     "data": {
      "text/plain": [
       "array([ 9, 15, 17], dtype=int32)"
      ]
     },
     "execution_count": 318,
     "metadata": {},
     "output_type": "execute_result"
    }
   ],
   "source": [
    "x[::2]"
   ]
  },
  {
   "cell_type": "code",
   "execution_count": 320,
   "id": "445e14ea-a121-4ebf-8eaa-d374f5adbe00",
   "metadata": {},
   "outputs": [
    {
     "data": {
      "text/plain": [
       "array([[9, 4, 0, 1],\n",
       "       [9, 0, 1, 8],\n",
       "       [9, 0, 8, 6]], dtype=int32)"
      ]
     },
     "execution_count": 320,
     "metadata": {},
     "output_type": "execute_result"
    }
   ],
   "source": [
    "X"
   ]
  },
  {
   "cell_type": "code",
   "execution_count": 322,
   "id": "a7595322-e733-4f3c-ac7e-5654118a0e6c",
   "metadata": {},
   "outputs": [
    {
     "data": {
      "text/plain": [
       "array([[9, 4, 0, 1],\n",
       "       [9, 0, 1, 8]], dtype=int32)"
      ]
     },
     "execution_count": 322,
     "metadata": {},
     "output_type": "execute_result"
    }
   ],
   "source": [
    "X[:2]"
   ]
  },
  {
   "cell_type": "code",
   "execution_count": 324,
   "id": "820473a9-70be-463f-bfef-7797341e5379",
   "metadata": {},
   "outputs": [
    {
     "data": {
      "text/plain": [
       "array([[9, 4, 0],\n",
       "       [9, 0, 1]], dtype=int32)"
      ]
     },
     "execution_count": 324,
     "metadata": {},
     "output_type": "execute_result"
    }
   ],
   "source": [
    "X[:2, :3]"
   ]
  },
  {
   "cell_type": "code",
   "execution_count": 328,
   "id": "3af9b782-4bae-4bd5-8c77-0f8ca1b17c91",
   "metadata": {},
   "outputs": [
    {
     "data": {
      "text/plain": [
       "array([[9, 4],\n",
       "       [9, 0],\n",
       "       [9, 0]], dtype=int32)"
      ]
     },
     "execution_count": 328,
     "metadata": {},
     "output_type": "execute_result"
    }
   ],
   "source": [
    "X[:, :2]"
   ]
  },
  {
   "cell_type": "markdown",
   "id": "164c6329-57a9-49b0-83ab-636dcf3e0dc1",
   "metadata": {},
   "source": [
    "## Reshaping of arrays & Transpose"
   ]
  },
  {
   "cell_type": "code",
   "execution_count": null,
   "id": "afb5d35c-e6c7-46f6-beae-af6317f4def3",
   "metadata": {},
   "outputs": [],
   "source": []
  }
 ],
 "metadata": {
  "kernelspec": {
   "display_name": "Python 3 (ipykernel)",
   "language": "python",
   "name": "python3"
  },
  "language_info": {
   "codemirror_mode": {
    "name": "ipython",
    "version": 3
   },
   "file_extension": ".py",
   "mimetype": "text/x-python",
   "name": "python",
   "nbconvert_exporter": "python",
   "pygments_lexer": "ipython3",
   "version": "3.12.4"
  }
 },
 "nbformat": 4,
 "nbformat_minor": 5
}
