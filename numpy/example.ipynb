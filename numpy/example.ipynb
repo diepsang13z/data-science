{
 "cells": [
  {
   "cell_type": "markdown",
   "id": "46775e7e-c702-4cb0-b95f-a0b9fdbfaf91",
   "metadata": {},
   "source": [
    "# Numpy"
   ]
  },
  {
   "cell_type": "code",
   "execution_count": 8,
   "id": "d38ab595-cc77-4274-beb4-d39929d6e182",
   "metadata": {},
   "outputs": [],
   "source": [
    "import numpy as np"
   ]
  },
  {
   "cell_type": "markdown",
   "id": "fd2ea365-b5d3-4da6-8e4f-4256a5b46485",
   "metadata": {},
   "source": [
    "## Array"
   ]
  },
  {
   "cell_type": "markdown",
   "id": "e946e003-f1d5-44ce-b1cc-c9a22aeb93b2",
   "metadata": {},
   "source": [
    "### 1D array"
   ]
  },
  {
   "cell_type": "code",
   "execution_count": 12,
   "id": "9769e09a-237a-4454-b08d-514231efb03b",
   "metadata": {},
   "outputs": [
    {
     "data": {
      "text/plain": [
       "array([1, 2, 3, 4])"
      ]
     },
     "execution_count": 12,
     "metadata": {},
     "output_type": "execute_result"
    }
   ],
   "source": [
    "np.array([1, 2, 3, 4])"
   ]
  },
  {
   "cell_type": "code",
   "execution_count": 14,
   "id": "aba55367-a51f-489b-a540-fdc04389b8bb",
   "metadata": {},
   "outputs": [
    {
     "data": {
      "text/plain": [
       "array([3.14, 2.  , 3.  , 4.  ])"
      ]
     },
     "execution_count": 14,
     "metadata": {},
     "output_type": "execute_result"
    }
   ],
   "source": [
    "np.array([3.14, 2, 3, 4])"
   ]
  },
  {
   "cell_type": "code",
   "execution_count": 16,
   "id": "9e64440c-f4e5-43ac-ad85-5c75357e9558",
   "metadata": {},
   "outputs": [
    {
     "data": {
      "text/plain": [
       "array([1., 2., 3., 4.], dtype=float32)"
      ]
     },
     "execution_count": 16,
     "metadata": {},
     "output_type": "execute_result"
    }
   ],
   "source": [
    "np.array([1, 2, 3, 4], dtype='float32')"
   ]
  },
  {
   "cell_type": "code",
   "execution_count": 18,
   "id": "0e53a327-9261-4fc5-b6fd-af5237a907e7",
   "metadata": {},
   "outputs": [],
   "source": [
    "a = np.array([1, 2, 3, 4])"
   ]
  },
  {
   "cell_type": "code",
   "execution_count": 20,
   "id": "b5924fb1-b675-4f08-aa66-f34d2f7d1c36",
   "metadata": {},
   "outputs": [
    {
     "data": {
      "text/plain": [
       "numpy.ndarray"
      ]
     },
     "execution_count": 20,
     "metadata": {},
     "output_type": "execute_result"
    }
   ],
   "source": [
    "type(a)"
   ]
  },
  {
   "cell_type": "markdown",
   "id": "774ccbda-6900-4321-a3f5-24b96c1ead12",
   "metadata": {},
   "source": [
    "a.shape"
   ]
  },
  {
   "cell_type": "code",
   "execution_count": 23,
   "id": "4ede23ea-5b3a-413d-ad46-6a3c3d3653aa",
   "metadata": {},
   "outputs": [
    {
     "data": {
      "text/plain": [
       "1"
      ]
     },
     "execution_count": 23,
     "metadata": {},
     "output_type": "execute_result"
    }
   ],
   "source": [
    "a.ndim"
   ]
  },
  {
   "cell_type": "code",
   "execution_count": 25,
   "id": "1de4dafe-7eea-49a6-8e9b-19b6550c36d4",
   "metadata": {},
   "outputs": [
    {
     "data": {
      "text/plain": [
       "4"
      ]
     },
     "execution_count": 25,
     "metadata": {},
     "output_type": "execute_result"
    }
   ],
   "source": [
    "a.size"
   ]
  },
  {
   "cell_type": "markdown",
   "id": "b7819814-4871-4ab7-9db1-36eb206b088f",
   "metadata": {},
   "source": [
    "### 2D array"
   ]
  },
  {
   "cell_type": "code",
   "execution_count": 28,
   "id": "33c65b8a-6e24-458d-b99a-ce683fa0c8d5",
   "metadata": {},
   "outputs": [],
   "source": [
    "A = np.array([[1, 2, 3],\n",
    "              [4, 5, 6]])"
   ]
  },
  {
   "cell_type": "code",
   "execution_count": 30,
   "id": "a5638310-aa90-41f1-a067-e618ebd300c3",
   "metadata": {},
   "outputs": [
    {
     "data": {
      "text/plain": [
       "numpy.ndarray"
      ]
     },
     "execution_count": 30,
     "metadata": {},
     "output_type": "execute_result"
    }
   ],
   "source": [
    "type(A)"
   ]
  },
  {
   "cell_type": "code",
   "execution_count": 32,
   "id": "8f532136-8cd8-4516-9f01-1dabd2331488",
   "metadata": {},
   "outputs": [
    {
     "data": {
      "text/plain": [
       "(2, 3)"
      ]
     },
     "execution_count": 32,
     "metadata": {},
     "output_type": "execute_result"
    }
   ],
   "source": [
    "A.shape"
   ]
  },
  {
   "cell_type": "code",
   "execution_count": 34,
   "id": "6f789d28-427f-443b-b9d2-1c9725d98a12",
   "metadata": {},
   "outputs": [
    {
     "data": {
      "text/plain": [
       "2"
      ]
     },
     "execution_count": 34,
     "metadata": {},
     "output_type": "execute_result"
    }
   ],
   "source": [
    "A.ndim"
   ]
  },
  {
   "cell_type": "code",
   "execution_count": 36,
   "id": "98412889-5e43-4eb7-8adf-b5948e91e613",
   "metadata": {},
   "outputs": [
    {
     "data": {
      "text/plain": [
       "6"
      ]
     },
     "execution_count": 36,
     "metadata": {},
     "output_type": "execute_result"
    }
   ],
   "source": [
    "A.size"
   ]
  },
  {
   "cell_type": "markdown",
   "id": "1742fd8d-a90a-41f4-92a8-d67d4effd386",
   "metadata": {},
   "source": [
    "## Create arrays from scratch"
   ]
  },
  {
   "cell_type": "markdown",
   "id": "3d6d5783-1b66-4654-beab-55e5fec9a33d",
   "metadata": {},
   "source": [
    "### `zeros`"
   ]
  },
  {
   "cell_type": "code",
   "execution_count": 40,
   "id": "b8a71076-e754-4c30-a8f6-8b52e35f81e0",
   "metadata": {},
   "outputs": [
    {
     "data": {
      "text/plain": [
       "array([[0, 0, 0, 0],\n",
       "       [0, 0, 0, 0],\n",
       "       [0, 0, 0, 0],\n",
       "       [0, 0, 0, 0],\n",
       "       [0, 0, 0, 0]])"
      ]
     },
     "execution_count": 40,
     "metadata": {},
     "output_type": "execute_result"
    }
   ],
   "source": [
    "np.zeros(shape=(5, 4), dtype='int')"
   ]
  },
  {
   "cell_type": "markdown",
   "id": "584d46fd-6e6a-4519-83cb-70f0dfd64c85",
   "metadata": {},
   "source": [
    "### `ones`"
   ]
  },
  {
   "cell_type": "code",
   "execution_count": 43,
   "id": "1d187285-edf4-4776-9b5f-20e9394543e7",
   "metadata": {},
   "outputs": [
    {
     "data": {
      "text/plain": [
       "array([[1., 1., 1., 1., 1.],\n",
       "       [1., 1., 1., 1., 1.],\n",
       "       [1., 1., 1., 1., 1.]])"
      ]
     },
     "execution_count": 43,
     "metadata": {},
     "output_type": "execute_result"
    }
   ],
   "source": [
    "np.ones(shape=(3, 5), dtype='float')"
   ]
  },
  {
   "cell_type": "markdown",
   "id": "b1f7bd69-a923-46da-b8c5-8644c8af0dcd",
   "metadata": {},
   "source": [
    "### `arange`"
   ]
  },
  {
   "cell_type": "code",
   "execution_count": 46,
   "id": "50667499-a2c2-4f3d-b079-28817ced83eb",
   "metadata": {},
   "outputs": [
    {
     "data": {
      "text/plain": [
       "array([ 0,  2,  4,  6,  8, 10, 12, 14, 16, 18])"
      ]
     },
     "execution_count": 46,
     "metadata": {},
     "output_type": "execute_result"
    }
   ],
   "source": [
    "np.arange(start=0, stop=20, step=2)"
   ]
  },
  {
   "cell_type": "markdown",
   "id": "c74a7d0c-b1c8-4cc8-a2e8-d53781701c3a",
   "metadata": {},
   "source": [
    "### `full`"
   ]
  },
  {
   "cell_type": "code",
   "execution_count": 49,
   "id": "a9b7e45f-4860-4155-87d9-831fa43db24b",
   "metadata": {},
   "outputs": [
    {
     "data": {
      "text/plain": [
       "array([[5, 5, 5, 5],\n",
       "       [5, 5, 5, 5],\n",
       "       [5, 5, 5, 5]])"
      ]
     },
     "execution_count": 49,
     "metadata": {},
     "output_type": "execute_result"
    }
   ],
   "source": [
    "np.full(shape=(3, 4), fill_value=5)"
   ]
  },
  {
   "cell_type": "markdown",
   "id": "f29ea260-3b23-4ace-a507-ba61765bdb64",
   "metadata": {},
   "source": [
    "### `linspace`"
   ]
  },
  {
   "cell_type": "code",
   "execution_count": 52,
   "id": "131a112f-bfbe-46ba-80bb-57d85a94daaa",
   "metadata": {},
   "outputs": [
    {
     "data": {
      "text/plain": [
       "array([0.  , 0.25, 0.5 , 0.75, 1.  ])"
      ]
     },
     "execution_count": 52,
     "metadata": {},
     "output_type": "execute_result"
    }
   ],
   "source": [
    "np.linspace(start=0, stop=1, num=5) "
   ]
  },
  {
   "cell_type": "markdown",
   "id": "c6129607-1293-40a0-99e5-8427393df495",
   "metadata": {},
   "source": [
    "## random"
   ]
  },
  {
   "cell_type": "code",
   "execution_count": 55,
   "id": "7916bf85-d5ae-4f51-86bd-a646d9c282fe",
   "metadata": {},
   "outputs": [
    {
     "data": {
      "text/plain": [
       "array([[0.64648659, 0.39916407, 0.47458849, 0.42674816],\n",
       "       [0.48369852, 0.51834367, 0.95447673, 0.46007777],\n",
       "       [0.59939595, 0.63916839, 0.42984701, 0.3330544 ],\n",
       "       [0.83450549, 0.60320116, 0.23055349, 0.66388795]])"
      ]
     },
     "execution_count": 55,
     "metadata": {},
     "output_type": "execute_result"
    }
   ],
   "source": [
    "np.random.random(size=(4, 4))"
   ]
  },
  {
   "cell_type": "code",
   "execution_count": 57,
   "id": "50590221-f142-468b-8793-440b7dfd5453",
   "metadata": {},
   "outputs": [
    {
     "data": {
      "text/plain": [
       "array([[0.96056197, 0.79317438, 0.15360167, 0.9852552 , 0.84948692],\n",
       "       [0.39657373, 0.25602684, 0.26381244, 0.49758712, 0.64804958],\n",
       "       [0.60005754, 0.89529759, 0.67594534, 0.64733566, 0.93076364],\n",
       "       [0.69532787, 0.27770411, 0.27327722, 0.87156613, 0.59559613]])"
      ]
     },
     "execution_count": 57,
     "metadata": {},
     "output_type": "execute_result"
    }
   ],
   "source": [
    "np.random.rand(4, 5)"
   ]
  },
  {
   "cell_type": "code",
   "execution_count": 59,
   "id": "c283955a-fcf2-4579-8983-06e142bdd617",
   "metadata": {},
   "outputs": [
    {
     "data": {
      "text/plain": [
       "array([[0.69646919, 0.28613933, 0.22685145, 0.55131477],\n",
       "       [0.71946897, 0.42310646, 0.9807642 , 0.68482974],\n",
       "       [0.4809319 , 0.39211752, 0.34317802, 0.72904971],\n",
       "       [0.43857224, 0.0596779 , 0.39804426, 0.73799541]])"
      ]
     },
     "execution_count": 59,
     "metadata": {},
     "output_type": "execute_result"
    }
   ],
   "source": [
    "np.random.seed(123)\n",
    "np.random.random(size=(4, 4))"
   ]
  },
  {
   "cell_type": "code",
   "execution_count": 61,
   "id": "d089396f-9e66-4ad2-8488-8d9aec2766bd",
   "metadata": {},
   "outputs": [
    {
     "data": {
      "text/plain": [
       "array([[-0.44398196, -0.43435128,  2.20593008],\n",
       "       [ 2.18678609,  1.0040539 ,  0.3861864 ],\n",
       "       [ 0.73736858,  1.49073203, -0.93583387]])"
      ]
     },
     "execution_count": 61,
     "metadata": {},
     "output_type": "execute_result"
    }
   ],
   "source": [
    "np.random.normal(loc=0, scale=1, size=(3, 3))"
   ]
  },
  {
   "cell_type": "code",
   "execution_count": 63,
   "id": "28adbc96-057f-4d9f-b4ae-b324a3a4b8b4",
   "metadata": {},
   "outputs": [
    {
     "data": {
      "text/plain": [
       "array([[3, 3, 4, 3, 4],\n",
       "       [3, 3, 4, 3, 4],\n",
       "       [3, 4, 3, 3, 3],\n",
       "       [3, 4, 3, 3, 4]], dtype=int32)"
      ]
     },
     "execution_count": 63,
     "metadata": {},
     "output_type": "execute_result"
    }
   ],
   "source": [
    "np.random.randint(low=3, high=5, size=(4, 5))"
   ]
  },
  {
   "cell_type": "markdown",
   "id": "835bdbad-abb3-4671-aec9-e301eeabcb49",
   "metadata": {},
   "source": [
    "## Indexing & Slicing"
   ]
  },
  {
   "cell_type": "markdown",
   "id": "1581bd67-c5e5-4fe0-8392-5add4581c803",
   "metadata": {},
   "source": [
    "### Indexing 1D array"
   ]
  },
  {
   "cell_type": "code",
   "execution_count": 67,
   "id": "64924784-5ae9-49ba-8b9d-c4a08cb94fb0",
   "metadata": {},
   "outputs": [],
   "source": [
    "np.random.seed(10)\n",
    "x = np.random.randint(20, size=6)"
   ]
  },
  {
   "cell_type": "code",
   "execution_count": 69,
   "id": "7cb7214d-fed3-4e36-bc64-b8d3b5deba0a",
   "metadata": {},
   "outputs": [
    {
     "data": {
      "text/plain": [
       "array([ 9,  4, 15,  0, 17, 16], dtype=int32)"
      ]
     },
     "execution_count": 69,
     "metadata": {},
     "output_type": "execute_result"
    }
   ],
   "source": [
    "x"
   ]
  },
  {
   "cell_type": "code",
   "execution_count": 71,
   "id": "9a6f7662-758a-4c5d-b8ff-bde8b05f3819",
   "metadata": {},
   "outputs": [
    {
     "data": {
      "text/plain": [
       "(np.int32(9), np.int32(17), np.int32(16))"
      ]
     },
     "execution_count": 71,
     "metadata": {},
     "output_type": "execute_result"
    }
   ],
   "source": [
    "x[0], x[4], x[-1]"
   ]
  },
  {
   "cell_type": "markdown",
   "id": "61449a37-50a2-430e-81df-0f111ad8db8b",
   "metadata": {},
   "source": [
    "### Indexing 2D array"
   ]
  },
  {
   "cell_type": "code",
   "execution_count": 74,
   "id": "bdbe63dd-a501-4f76-841c-5b06275712d5",
   "metadata": {},
   "outputs": [],
   "source": [
    "np.random.seed(10)\n",
    "X = np.random.randint(10, size=(3, 4))"
   ]
  },
  {
   "cell_type": "code",
   "execution_count": 76,
   "id": "6a90a5ce-5954-4ac2-b788-3a1a6f5f747f",
   "metadata": {},
   "outputs": [
    {
     "data": {
      "text/plain": [
       "array([[9, 4, 0, 1],\n",
       "       [9, 0, 1, 8],\n",
       "       [9, 0, 8, 6]], dtype=int32)"
      ]
     },
     "execution_count": 76,
     "metadata": {},
     "output_type": "execute_result"
    }
   ],
   "source": [
    "X"
   ]
  },
  {
   "cell_type": "code",
   "execution_count": 78,
   "id": "0af45b03-f7cf-4f38-9209-3784caab7a6d",
   "metadata": {},
   "outputs": [
    {
     "data": {
      "text/plain": [
       "(np.int32(9), np.int32(9), np.int32(8))"
      ]
     },
     "execution_count": 78,
     "metadata": {},
     "output_type": "execute_result"
    }
   ],
   "source": [
    "X[0, 0], X[1, 0], X[2, 2]"
   ]
  },
  {
   "cell_type": "markdown",
   "id": "2844a561-9326-46d6-9950-ebab2cb359c8",
   "metadata": {},
   "source": [
    "### Slicing\n",
    "`x[start:stop:step]`"
   ]
  },
  {
   "cell_type": "code",
   "execution_count": 81,
   "id": "954b5f1b-bb49-4b6a-9b7c-3c3164b7647d",
   "metadata": {},
   "outputs": [
    {
     "data": {
      "text/plain": [
       "array([ 9,  4, 15,  0, 17, 16], dtype=int32)"
      ]
     },
     "execution_count": 81,
     "metadata": {},
     "output_type": "execute_result"
    }
   ],
   "source": [
    "x"
   ]
  },
  {
   "cell_type": "code",
   "execution_count": 83,
   "id": "2fd11b02-ff3d-4789-a892-b30055aa82f5",
   "metadata": {},
   "outputs": [
    {
     "data": {
      "text/plain": [
       "array([ 9,  4, 15], dtype=int32)"
      ]
     },
     "execution_count": 83,
     "metadata": {},
     "output_type": "execute_result"
    }
   ],
   "source": [
    "x[0:3]"
   ]
  },
  {
   "cell_type": "code",
   "execution_count": 85,
   "id": "84c2e423-f8fc-405c-919e-314216d0091a",
   "metadata": {},
   "outputs": [
    {
     "data": {
      "text/plain": [
       "array([15,  0], dtype=int32)"
      ]
     },
     "execution_count": 85,
     "metadata": {},
     "output_type": "execute_result"
    }
   ],
   "source": [
    "x[2:4]"
   ]
  },
  {
   "cell_type": "code",
   "execution_count": 87,
   "id": "02cdc22b-b694-4b60-88f6-642c21e76f46",
   "metadata": {},
   "outputs": [
    {
     "data": {
      "text/plain": [
       "array([ 9, 15, 17], dtype=int32)"
      ]
     },
     "execution_count": 87,
     "metadata": {},
     "output_type": "execute_result"
    }
   ],
   "source": [
    "x[::2]"
   ]
  },
  {
   "cell_type": "code",
   "execution_count": 89,
   "id": "445e14ea-a121-4ebf-8eaa-d374f5adbe00",
   "metadata": {},
   "outputs": [
    {
     "data": {
      "text/plain": [
       "array([[9, 4, 0, 1],\n",
       "       [9, 0, 1, 8],\n",
       "       [9, 0, 8, 6]], dtype=int32)"
      ]
     },
     "execution_count": 89,
     "metadata": {},
     "output_type": "execute_result"
    }
   ],
   "source": [
    "X"
   ]
  },
  {
   "cell_type": "code",
   "execution_count": 91,
   "id": "a7595322-e733-4f3c-ac7e-5654118a0e6c",
   "metadata": {},
   "outputs": [
    {
     "data": {
      "text/plain": [
       "array([[9, 4, 0, 1],\n",
       "       [9, 0, 1, 8]], dtype=int32)"
      ]
     },
     "execution_count": 91,
     "metadata": {},
     "output_type": "execute_result"
    }
   ],
   "source": [
    "X[:2]"
   ]
  },
  {
   "cell_type": "code",
   "execution_count": 93,
   "id": "820473a9-70be-463f-bfef-7797341e5379",
   "metadata": {},
   "outputs": [
    {
     "data": {
      "text/plain": [
       "array([[9, 4, 0],\n",
       "       [9, 0, 1]], dtype=int32)"
      ]
     },
     "execution_count": 93,
     "metadata": {},
     "output_type": "execute_result"
    }
   ],
   "source": [
    "X[:2, :3]"
   ]
  },
  {
   "cell_type": "code",
   "execution_count": 95,
   "id": "3af9b782-4bae-4bd5-8c77-0f8ca1b17c91",
   "metadata": {},
   "outputs": [
    {
     "data": {
      "text/plain": [
       "array([[9, 4],\n",
       "       [9, 0],\n",
       "       [9, 0]], dtype=int32)"
      ]
     },
     "execution_count": 95,
     "metadata": {},
     "output_type": "execute_result"
    }
   ],
   "source": [
    "X[:, :2]"
   ]
  },
  {
   "cell_type": "markdown",
   "id": "164c6329-57a9-49b0-83ab-636dcf3e0dc1",
   "metadata": {},
   "source": [
    "## Reshaping"
   ]
  },
  {
   "cell_type": "code",
   "execution_count": 103,
   "id": "afb5d35c-e6c7-46f6-beae-af6317f4def3",
   "metadata": {},
   "outputs": [],
   "source": [
    "grid = np.arange(1, 10)"
   ]
  },
  {
   "cell_type": "code",
   "execution_count": 111,
   "id": "45a5af84-c10e-497e-819d-c5134bcd2231",
   "metadata": {},
   "outputs": [
    {
     "data": {
      "text/plain": [
       "array([1, 2, 3, 4, 5, 6, 7, 8, 9])"
      ]
     },
     "execution_count": 111,
     "metadata": {},
     "output_type": "execute_result"
    }
   ],
   "source": [
    "grid"
   ]
  },
  {
   "cell_type": "code",
   "execution_count": 107,
   "id": "77a19d7f-bca7-44e5-a4bd-54609aef2033",
   "metadata": {},
   "outputs": [
    {
     "data": {
      "text/plain": [
       "(9,)"
      ]
     },
     "execution_count": 107,
     "metadata": {},
     "output_type": "execute_result"
    }
   ],
   "source": [
    "grid.shape"
   ]
  },
  {
   "cell_type": "code",
   "execution_count": 109,
   "id": "551f2316-69a1-4c02-a1a5-1495fa256a93",
   "metadata": {},
   "outputs": [
    {
     "data": {
      "text/plain": [
       "array([[1, 2, 3],\n",
       "       [4, 5, 6],\n",
       "       [7, 8, 9]])"
      ]
     },
     "execution_count": 109,
     "metadata": {},
     "output_type": "execute_result"
    }
   ],
   "source": [
    "grid.reshape((3, 3))"
   ]
  },
  {
   "cell_type": "code",
   "execution_count": 113,
   "id": "6c4c0cfd-1d04-4a4a-ae89-b5bbe44e4a72",
   "metadata": {},
   "outputs": [],
   "source": [
    "v = np.array([1, 2, 3])"
   ]
  },
  {
   "cell_type": "code",
   "execution_count": 119,
   "id": "4c3b206e-89a6-4754-a2a4-717f30b2e55e",
   "metadata": {},
   "outputs": [
    {
     "data": {
      "text/plain": [
       "array([1, 2, 3])"
      ]
     },
     "execution_count": 119,
     "metadata": {},
     "output_type": "execute_result"
    }
   ],
   "source": [
    "v"
   ]
  },
  {
   "cell_type": "code",
   "execution_count": 115,
   "id": "9555f5fe-723a-4115-8d11-281b10635cac",
   "metadata": {},
   "outputs": [
    {
     "data": {
      "text/plain": [
       "(3,)"
      ]
     },
     "execution_count": 115,
     "metadata": {},
     "output_type": "execute_result"
    }
   ],
   "source": [
    "v.shape"
   ]
  },
  {
   "cell_type": "code",
   "execution_count": 125,
   "id": "d21da644-2cd4-46d9-bed8-836edc8742d1",
   "metadata": {},
   "outputs": [],
   "source": [
    "v = v.reshape((1, 3))"
   ]
  },
  {
   "cell_type": "code",
   "execution_count": 127,
   "id": "d22f6018-b42d-4031-910b-6af5c8c62104",
   "metadata": {},
   "outputs": [
    {
     "data": {
      "text/plain": [
       "(1, 3)"
      ]
     },
     "execution_count": 127,
     "metadata": {},
     "output_type": "execute_result"
    }
   ],
   "source": [
    "v.shape"
   ]
  },
  {
   "cell_type": "markdown",
   "id": "bc275e69-d442-4e48-8f8e-b705e99a71f5",
   "metadata": {},
   "source": [
    "## Transpose"
   ]
  },
  {
   "cell_type": "code",
   "execution_count": 133,
   "id": "105ac9d5-936d-432b-bc7f-c8dbfe66aef7",
   "metadata": {},
   "outputs": [],
   "source": [
    "x = np.array([[1., 2.], [3., 4.]])"
   ]
  },
  {
   "cell_type": "code",
   "execution_count": 135,
   "id": "77ef7483-bcc6-4950-bd44-9e16267d9353",
   "metadata": {},
   "outputs": [
    {
     "data": {
      "text/plain": [
       "array([[1., 2.],\n",
       "       [3., 4.]])"
      ]
     },
     "execution_count": 135,
     "metadata": {},
     "output_type": "execute_result"
    }
   ],
   "source": [
    "x"
   ]
  },
  {
   "cell_type": "code",
   "execution_count": 137,
   "id": "671bcb45-7b06-4c55-8b44-680be26c2845",
   "metadata": {},
   "outputs": [
    {
     "data": {
      "text/plain": [
       "array([[1., 3.],\n",
       "       [2., 4.]])"
      ]
     },
     "execution_count": 137,
     "metadata": {},
     "output_type": "execute_result"
    }
   ],
   "source": [
    "x.T"
   ]
  },
  {
   "cell_type": "markdown",
   "id": "6b11d115-573b-4f57-a81e-d2199d802b5c",
   "metadata": {},
   "source": [
    "## Concatenation"
   ]
  },
  {
   "cell_type": "code",
   "execution_count": 147,
   "id": "8a54ce4f-1025-4433-b0f2-7a6cf905bde3",
   "metadata": {},
   "outputs": [],
   "source": [
    "x = np.array([1, 2, 3])\n",
    "y = np.array([4, 5, 6])"
   ]
  },
  {
   "cell_type": "code",
   "execution_count": 153,
   "id": "8fa9650f-5ec2-46e2-b90d-eac64b6b3cdd",
   "metadata": {},
   "outputs": [
    {
     "data": {
      "text/plain": [
       "array([1, 2, 3, 4, 5, 6])"
      ]
     },
     "execution_count": 153,
     "metadata": {},
     "output_type": "execute_result"
    }
   ],
   "source": [
    "np.concatenate((x, y))"
   ]
  },
  {
   "cell_type": "code",
   "execution_count": 165,
   "id": "5e0e4b26-628f-4859-ba36-1ca04b699782",
   "metadata": {},
   "outputs": [],
   "source": [
    "A = np.array([[1, 2, 3],\n",
    "                [4, 5, 6]])"
   ]
  },
  {
   "cell_type": "code",
   "execution_count": 167,
   "id": "a337131a-1885-42c4-9c50-3569fe589751",
   "metadata": {},
   "outputs": [
    {
     "data": {
      "text/plain": [
       "array([[1, 2, 3, 1, 2, 3],\n",
       "       [4, 5, 6, 4, 5, 6]])"
      ]
     },
     "execution_count": 167,
     "metadata": {},
     "output_type": "execute_result"
    }
   ],
   "source": [
    "np.concatenate((A, A), axis=1)"
   ]
  },
  {
   "cell_type": "code",
   "execution_count": 187,
   "id": "2eb07e66-5359-4983-8bc6-1b66783b20f1",
   "metadata": {},
   "outputs": [
    {
     "data": {
      "text/plain": [
       "array([[1, 2, 3],\n",
       "       [1, 2, 3],\n",
       "       [4, 5, 6]])"
      ]
     },
     "execution_count": 187,
     "metadata": {},
     "output_type": "execute_result"
    }
   ],
   "source": [
    "np.vstack((x, A))"
   ]
  },
  {
   "cell_type": "code",
   "execution_count": 197,
   "id": "91e8ec7c-7c36-4d25-b0e6-f40e0b1f29f8",
   "metadata": {},
   "outputs": [],
   "source": [
    "B = np.array([[99],\n",
    "              [99]])"
   ]
  },
  {
   "cell_type": "code",
   "execution_count": 199,
   "id": "bc46df0c-20ac-418c-982b-b93f2343ab02",
   "metadata": {},
   "outputs": [
    {
     "data": {
      "text/plain": [
       "array([[99],\n",
       "       [99]])"
      ]
     },
     "execution_count": 199,
     "metadata": {},
     "output_type": "execute_result"
    }
   ],
   "source": [
    "B"
   ]
  },
  {
   "cell_type": "code",
   "execution_count": 201,
   "id": "8ea0fa53-1d18-49a6-b349-efdbd2d1fb2c",
   "metadata": {},
   "outputs": [
    {
     "data": {
      "text/plain": [
       "array([[99,  1,  2,  3],\n",
       "       [99,  4,  5,  6]])"
      ]
     },
     "execution_count": 201,
     "metadata": {},
     "output_type": "execute_result"
    }
   ],
   "source": [
    "np.hstack((B, A))"
   ]
  },
  {
   "cell_type": "markdown",
   "id": "232869bf-6384-48b9-a4a8-585276998f27",
   "metadata": {},
   "source": [
    "## Splitting"
   ]
  },
  {
   "cell_type": "code",
   "execution_count": 204,
   "id": "b98aa18f-ea03-4016-9190-cbebc20a11b9",
   "metadata": {},
   "outputs": [],
   "source": [
    "x = np.array([1, 2, 3, 5, 667, 99, 3, 1])"
   ]
  },
  {
   "cell_type": "code",
   "execution_count": 216,
   "id": "0a7e4754-dcdd-4904-9769-3324b1e5738e",
   "metadata": {},
   "outputs": [
    {
     "data": {
      "text/plain": [
       "[array([1, 2]), array([3, 5]), array([667,  99]), array([3, 1])]"
      ]
     },
     "execution_count": 216,
     "metadata": {},
     "output_type": "execute_result"
    }
   ],
   "source": [
    "np.split(x, 4)"
   ]
  },
  {
   "cell_type": "code",
   "execution_count": 206,
   "id": "dbb84e10-5907-48bd-8c69-2c7d64a35490",
   "metadata": {},
   "outputs": [
    {
     "data": {
      "text/plain": [
       "[array([1, 2, 3]), array([  5, 667]), array([99,  3,  1])]"
      ]
     },
     "execution_count": 206,
     "metadata": {},
     "output_type": "execute_result"
    }
   ],
   "source": [
    "np.split(x, [3, 5])"
   ]
  },
  {
   "cell_type": "markdown",
   "id": "ab884a12-4bc2-470b-ae86-3b9cb9caa524",
   "metadata": {},
   "source": [
    "## Broadcasting and Vectorized operations\n",
    "![image-broadcasting](https://jakevdp.github.io/PythonDataScienceHandbook/figures/02.05-broadcasting.png)"
   ]
  },
  {
   "cell_type": "code",
   "execution_count": 221,
   "id": "75c656b0-07e2-4c30-8340-0a07fce5f264",
   "metadata": {},
   "outputs": [],
   "source": [
    "a = np.arange(3)"
   ]
  },
  {
   "cell_type": "code",
   "execution_count": 223,
   "id": "80166035-379f-4be5-98ee-8c49f9930b3a",
   "metadata": {},
   "outputs": [
    {
     "data": {
      "text/plain": [
       "array([0, 1, 2])"
      ]
     },
     "execution_count": 223,
     "metadata": {},
     "output_type": "execute_result"
    }
   ],
   "source": [
    "a"
   ]
  },
  {
   "cell_type": "code",
   "execution_count": 225,
   "id": "9c524980-cfdc-47e9-86b8-23ca4e7edc4f",
   "metadata": {},
   "outputs": [
    {
     "data": {
      "text/plain": [
       "array([5, 6, 7])"
      ]
     },
     "execution_count": 225,
     "metadata": {},
     "output_type": "execute_result"
    }
   ],
   "source": [
    "a + 5"
   ]
  },
  {
   "cell_type": "code",
   "execution_count": 239,
   "id": "2788b1e1-254d-43da-9d2a-b18a3e76cae3",
   "metadata": {},
   "outputs": [],
   "source": [
    "A = np.ones((3, 3))"
   ]
  },
  {
   "cell_type": "code",
   "execution_count": 241,
   "id": "6bb80080-6ada-457b-8a22-386af9bb2c71",
   "metadata": {},
   "outputs": [
    {
     "data": {
      "text/plain": [
       "array([[1., 1., 1.],\n",
       "       [1., 1., 1.],\n",
       "       [1., 1., 1.]])"
      ]
     },
     "execution_count": 241,
     "metadata": {},
     "output_type": "execute_result"
    }
   ],
   "source": [
    "A"
   ]
  },
  {
   "cell_type": "code",
   "execution_count": 243,
   "id": "e0b64bf1-b5d3-4a49-8536-75bb935b83d1",
   "metadata": {},
   "outputs": [
    {
     "data": {
      "text/plain": [
       "array([[1., 2., 3.],\n",
       "       [1., 2., 3.],\n",
       "       [1., 2., 3.]])"
      ]
     },
     "execution_count": 243,
     "metadata": {},
     "output_type": "execute_result"
    }
   ],
   "source": [
    "A + a"
   ]
  },
  {
   "cell_type": "code",
   "execution_count": 273,
   "id": "4443202d-4d79-4ddd-8365-51293027cbd4",
   "metadata": {},
   "outputs": [],
   "source": [
    "x = np.array([0, 1, 2])\n",
    "Y = np.array([[0],\n",
    "              [1], \n",
    "              [2]])"
   ]
  },
  {
   "cell_type": "code",
   "execution_count": 275,
   "id": "6434f25f-5be8-451c-a42b-bf20814a5ca7",
   "metadata": {},
   "outputs": [
    {
     "data": {
      "text/plain": [
       "(array([0, 1, 2]),\n",
       " array([[0],\n",
       "        [1],\n",
       "        [2]]))"
      ]
     },
     "execution_count": 275,
     "metadata": {},
     "output_type": "execute_result"
    }
   ],
   "source": [
    "x, Y"
   ]
  },
  {
   "cell_type": "code",
   "execution_count": 277,
   "id": "763efaad-3915-405c-9be8-10a4bf7bd42c",
   "metadata": {},
   "outputs": [
    {
     "data": {
      "text/plain": [
       "array([[0, 1, 2],\n",
       "       [1, 2, 3],\n",
       "       [2, 3, 4]])"
      ]
     },
     "execution_count": 277,
     "metadata": {},
     "output_type": "execute_result"
    }
   ],
   "source": [
    "x + Y"
   ]
  },
  {
   "cell_type": "code",
   "execution_count": 279,
   "id": "d6e97802-e9a9-4111-a1df-b32a407be062",
   "metadata": {},
   "outputs": [
    {
     "data": {
      "text/plain": [
       "array([[0, 0, 0],\n",
       "       [0, 1, 2],\n",
       "       [0, 2, 4]])"
      ]
     },
     "execution_count": 279,
     "metadata": {},
     "output_type": "execute_result"
    }
   ],
   "source": [
    "x * Y"
   ]
  },
  {
   "cell_type": "markdown",
   "id": "ae13162c-5b3e-4bd2-b939-a26d0217c757",
   "metadata": {},
   "source": [
    "## Manipulating & Comparing"
   ]
  },
  {
   "cell_type": "markdown",
   "id": "890bf506-e3d1-4a30-a3fe-3a7717cfd338",
   "metadata": {},
   "source": [
    "### Aggregation"
   ]
  },
  {
   "cell_type": "code",
   "execution_count": 314,
   "id": "78efed9d-3ac8-4246-b2fe-077ae12d5b77",
   "metadata": {},
   "outputs": [],
   "source": [
    "massive_array = np.random.random(100000)"
   ]
  },
  {
   "cell_type": "code",
   "execution_count": 317,
   "id": "7cf9ee89-3913-4328-ae1b-3907199d7316",
   "metadata": {},
   "outputs": [
    {
     "name": "stdout",
     "output_type": "stream",
     "text": [
      "6.16 ms ± 349 μs per loop (mean ± std. dev. of 7 runs, 100 loops each)\n"
     ]
    }
   ],
   "source": [
    "%timeit sum(massive_array) # Python sum()"
   ]
  },
  {
   "cell_type": "code",
   "execution_count": 319,
   "id": "ffb7659e-416c-4044-915a-28ddb95ee4ed",
   "metadata": {},
   "outputs": [
    {
     "name": "stdout",
     "output_type": "stream",
     "text": [
      "28.9 μs ± 869 ns per loop (mean ± std. dev. of 7 runs, 10,000 loops each)\n"
     ]
    }
   ],
   "source": [
    "%timeit np.sum(massive_array) # Numpy sum()"
   ]
  },
  {
   "cell_type": "code",
   "execution_count": 321,
   "id": "235c9e31-41b4-421e-b475-749add9e83a5",
   "metadata": {},
   "outputs": [
    {
     "data": {
      "text/plain": [
       "np.float64(0.5006567680250298)"
      ]
     },
     "execution_count": 321,
     "metadata": {},
     "output_type": "execute_result"
    }
   ],
   "source": [
    "np.mean(massive_array)"
   ]
  },
  {
   "cell_type": "code",
   "execution_count": 325,
   "id": "18b4e6a9-61d1-4f6b-8218-6ff4a2844f8b",
   "metadata": {},
   "outputs": [
    {
     "data": {
      "text/plain": [
       "np.float64(0.9999991190943784)"
      ]
     },
     "execution_count": 325,
     "metadata": {},
     "output_type": "execute_result"
    }
   ],
   "source": [
    "np.max(massive_array)"
   ]
  },
  {
   "cell_type": "code",
   "execution_count": 327,
   "id": "768436d3-57b1-45c6-82fa-eaddbf7c2a28",
   "metadata": {},
   "outputs": [
    {
     "data": {
      "text/plain": [
       "np.float64(8.590803772801081e-07)"
      ]
     },
     "execution_count": 327,
     "metadata": {},
     "output_type": "execute_result"
    }
   ],
   "source": [
    "np.min(massive_array)"
   ]
  },
  {
   "cell_type": "markdown",
   "id": "4eef1ba7-26c1-414e-aee5-4c997569bf3d",
   "metadata": {},
   "source": [
    "## Standard Deviation & Variance"
   ]
  },
  {
   "cell_type": "markdown",
   "id": "a89216cd-47fa-45ae-bd53-620cd5d11a0c",
   "metadata": {},
   "source": [
    "Standard deviation is a measure of how spread out numbers are."
   ]
  },
  {
   "cell_type": "markdown",
   "id": "c719e17f-b8b4-42b8-bf85-3d57fe752837",
   "metadata": {},
   "source": [
    "The formula is easy: It is the square root of the Variance."
   ]
  },
  {
   "cell_type": "markdown",
   "id": "f15a8f4f-28ba-4d25-8b1d-7a5694227483",
   "metadata": {},
   "source": [
    "Variance is the average of the squared differences from the Mean."
   ]
  },
  {
   "cell_type": "code",
   "execution_count": 336,
   "id": "f75f55cd-1614-4a85-9f22-83447792992a",
   "metadata": {},
   "outputs": [],
   "source": [
    "dog_height = np.array([600, 470, 170, 430, 300])"
   ]
  },
  {
   "cell_type": "code",
   "execution_count": 338,
   "id": "52bd4e14-ba9f-4c7b-a689-7a9300d43cf7",
   "metadata": {},
   "outputs": [
    {
     "data": {
      "text/plain": [
       "np.float64(147.32277488562318)"
      ]
     },
     "execution_count": 338,
     "metadata": {},
     "output_type": "execute_result"
    }
   ],
   "source": [
    "np.std(dog_height)"
   ]
  },
  {
   "cell_type": "code",
   "execution_count": 342,
   "id": "3046d79c-a37b-4fba-90ef-825d8dda6188",
   "metadata": {},
   "outputs": [
    {
     "data": {
      "text/plain": [
       "np.float64(21704.0)"
      ]
     },
     "execution_count": 342,
     "metadata": {},
     "output_type": "execute_result"
    }
   ],
   "source": [
    "np.var(dog_height)"
   ]
  },
  {
   "cell_type": "code",
   "execution_count": 346,
   "id": "072db286-7c65-4dc3-b05f-ca20f00ffe1a",
   "metadata": {},
   "outputs": [
    {
     "data": {
      "text/plain": [
       "np.float64(147.32277488562318)"
      ]
     },
     "execution_count": 346,
     "metadata": {},
     "output_type": "execute_result"
    }
   ],
   "source": [
    "np.sqrt(np.var(dog_height))"
   ]
  },
  {
   "cell_type": "markdown",
   "id": "9881941c-8624-4b24-ae1f-4f179ece683a",
   "metadata": {},
   "source": [
    "## Sorting"
   ]
  },
  {
   "cell_type": "code",
   "execution_count": 349,
   "id": "fb035fd6-eca8-416e-8bf2-8b479df3c34f",
   "metadata": {},
   "outputs": [
    {
     "data": {
      "text/plain": [
       "array([170, 300, 430, 470, 600])"
      ]
     },
     "execution_count": 349,
     "metadata": {},
     "output_type": "execute_result"
    }
   ],
   "source": [
    "np.sort(dog_height)"
   ]
  },
  {
   "cell_type": "code",
   "execution_count": 351,
   "id": "fd587663-986a-421c-811d-3b0b71c8ba82",
   "metadata": {},
   "outputs": [
    {
     "data": {
      "text/plain": [
       "array([2, 4, 3, 1, 0])"
      ]
     },
     "execution_count": 351,
     "metadata": {},
     "output_type": "execute_result"
    }
   ],
   "source": [
    "np.argsort(dog_height)"
   ]
  },
  {
   "cell_type": "code",
   "execution_count": 355,
   "id": "a157784e-519a-447f-a24d-5fc3bccf62d3",
   "metadata": {},
   "outputs": [],
   "source": [
    "np.random.seed(42)"
   ]
  },
  {
   "cell_type": "code",
   "execution_count": 357,
   "id": "96230fbf-e0a8-47f6-a644-632b14a61107",
   "metadata": {},
   "outputs": [],
   "source": [
    "A = np.random.randint(0, 10, size=(4, 6))"
   ]
  },
  {
   "cell_type": "code",
   "execution_count": 366,
   "id": "15a3113d-3dfd-492b-8c75-80996beaa1ef",
   "metadata": {},
   "outputs": [
    {
     "data": {
      "text/plain": [
       "array([[6, 3, 7, 4, 6, 9],\n",
       "       [2, 6, 7, 4, 3, 7],\n",
       "       [7, 2, 5, 4, 1, 7],\n",
       "       [5, 1, 4, 0, 9, 5]], dtype=int32)"
      ]
     },
     "execution_count": 366,
     "metadata": {},
     "output_type": "execute_result"
    }
   ],
   "source": [
    "A"
   ]
  },
  {
   "cell_type": "code",
   "execution_count": 362,
   "id": "c47efef5-9401-4733-bf2a-d214fcaa6553",
   "metadata": {},
   "outputs": [
    {
     "data": {
      "text/plain": [
       "array([[2, 1, 4, 0, 1, 5],\n",
       "       [5, 2, 5, 4, 3, 7],\n",
       "       [6, 3, 7, 4, 6, 7],\n",
       "       [7, 6, 7, 4, 9, 9]], dtype=int32)"
      ]
     },
     "execution_count": 362,
     "metadata": {},
     "output_type": "execute_result"
    }
   ],
   "source": [
    "np.sort(A, axis=0)"
   ]
  },
  {
   "cell_type": "code",
   "execution_count": 364,
   "id": "317a7d9d-57bc-4205-b7a8-47901ae5a617",
   "metadata": {},
   "outputs": [
    {
     "data": {
      "text/plain": [
       "array([[3, 4, 6, 6, 7, 9],\n",
       "       [2, 3, 4, 6, 7, 7],\n",
       "       [1, 2, 4, 5, 7, 7],\n",
       "       [0, 1, 4, 5, 5, 9]], dtype=int32)"
      ]
     },
     "execution_count": 364,
     "metadata": {},
     "output_type": "execute_result"
    }
   ],
   "source": [
    "np.sort(A, axis=1)"
   ]
  },
  {
   "cell_type": "markdown",
   "id": "c3e501b3-a476-4f35-b30c-7a2666675fcc",
   "metadata": {},
   "source": [
    "## Linear Algebra"
   ]
  },
  {
   "cell_type": "code",
   "execution_count": 373,
   "id": "f98ddb05-7d61-4034-9c02-ea53b885c4b5",
   "metadata": {},
   "outputs": [],
   "source": [
    "A = np.array([[1, 2, 3],\n",
    "            [4, 5, 6],\n",
    "            [7, 8, 9]])\n",
    "B = np.array([[6, 5],\n",
    "            [4, 3],\n",
    "            [2, 1]])"
   ]
  },
  {
   "cell_type": "code",
   "execution_count": 375,
   "id": "2578c6fe-1955-4344-9a1c-ea44d1e92a9b",
   "metadata": {},
   "outputs": [
    {
     "data": {
      "text/plain": [
       "(array([[1, 2, 3],\n",
       "        [4, 5, 6],\n",
       "        [7, 8, 9]]),\n",
       " array([[6, 5],\n",
       "        [4, 3],\n",
       "        [2, 1]]))"
      ]
     },
     "execution_count": 375,
     "metadata": {},
     "output_type": "execute_result"
    }
   ],
   "source": [
    "A, B"
   ]
  },
  {
   "cell_type": "code",
   "execution_count": 379,
   "id": "f8460cc4-1dd7-4cfd-ab1e-211af8ce1d16",
   "metadata": {},
   "outputs": [],
   "source": [
    "# A (3x3) dot B (3x2) -> (3x2)\n",
    "# 1*6 + 2*4 + 3*2 = 20\n",
    "# ..."
   ]
  },
  {
   "cell_type": "code",
   "execution_count": 377,
   "id": "846a80b0-8e51-4597-ba75-b0e49edc5581",
   "metadata": {},
   "outputs": [
    {
     "data": {
      "text/plain": [
       "array([[20, 14],\n",
       "       [56, 41],\n",
       "       [92, 68]])"
      ]
     },
     "execution_count": 377,
     "metadata": {},
     "output_type": "execute_result"
    }
   ],
   "source": [
    "A.dot(B)"
   ]
  },
  {
   "cell_type": "code",
   "execution_count": 387,
   "id": "a17fec50-a0de-49b6-ab5f-e3e9d956d495",
   "metadata": {},
   "outputs": [],
   "source": [
    "# B (3x2) dot A (3x3) -> X\n",
    "# B.T (2x3) dot A (3x3) -> (2x3)"
   ]
  },
  {
   "cell_type": "code",
   "execution_count": 385,
   "id": "5811632c-13e5-468d-b01c-b3afe063a003",
   "metadata": {},
   "outputs": [
    {
     "data": {
      "text/plain": [
       "array([[36, 48, 60],\n",
       "       [24, 33, 42]])"
      ]
     },
     "execution_count": 385,
     "metadata": {},
     "output_type": "execute_result"
    }
   ],
   "source": [
    "B.T.dot(A)"
   ]
  },
  {
   "cell_type": "markdown",
   "id": "fac21ac1-909c-4700-90c9-9cb3fec1e03c",
   "metadata": {},
   "source": [
    "### Dot product example"
   ]
  },
  {
   "cell_type": "code",
   "execution_count": 394,
   "id": "6858bc06-7b49-49b4-9fe4-e41e4f9448f8",
   "metadata": {},
   "outputs": [],
   "source": [
    "np.random.seed(0)\n",
    "sales_amounts = np.random.randint(20, size=(5, 3))"
   ]
  },
  {
   "cell_type": "code",
   "execution_count": 400,
   "id": "4f009821-f4f5-4076-b8e6-7611b714263a",
   "metadata": {},
   "outputs": [
    {
     "data": {
      "text/plain": [
       "array([[12, 15,  0],\n",
       "       [ 3,  3,  7],\n",
       "       [ 9, 19, 18],\n",
       "       [ 4,  6, 12],\n",
       "       [ 1,  6,  7]], dtype=int32)"
      ]
     },
     "execution_count": 400,
     "metadata": {},
     "output_type": "execute_result"
    }
   ],
   "source": [
    "sales_amounts"
   ]
  },
  {
   "cell_type": "code",
   "execution_count": 432,
   "id": "b16bef69-c946-4cee-bdd8-f619ca7c98c2",
   "metadata": {},
   "outputs": [],
   "source": [
    "import pandas as pd\n",
    "\n",
    "weekly_sales = pd.DataFrame(sales_amounts, index=['Mon', 'Tues', 'Wed', 'Thus', 'Fri'],\n",
    "                            columns=['Almond Butter', 'Peanut Butter', 'Cashew Butter'])\n",
    "                            "
   ]
  },
  {
   "cell_type": "code",
   "execution_count": 406,
   "id": "dc9c37ff-b67e-4d6c-a73d-f3f744f874ca",
   "metadata": {},
   "outputs": [
    {
     "data": {
      "text/html": [
       "<div>\n",
       "<style scoped>\n",
       "    .dataframe tbody tr th:only-of-type {\n",
       "        vertical-align: middle;\n",
       "    }\n",
       "\n",
       "    .dataframe tbody tr th {\n",
       "        vertical-align: top;\n",
       "    }\n",
       "\n",
       "    .dataframe thead th {\n",
       "        text-align: right;\n",
       "    }\n",
       "</style>\n",
       "<table border=\"1\" class=\"dataframe\">\n",
       "  <thead>\n",
       "    <tr style=\"text-align: right;\">\n",
       "      <th></th>\n",
       "      <th>Almond Butter</th>\n",
       "      <th>Peanut Butter</th>\n",
       "      <th>Cashew Butter</th>\n",
       "    </tr>\n",
       "  </thead>\n",
       "  <tbody>\n",
       "    <tr>\n",
       "      <th>Mon</th>\n",
       "      <td>12</td>\n",
       "      <td>15</td>\n",
       "      <td>0</td>\n",
       "    </tr>\n",
       "    <tr>\n",
       "      <th>Tues</th>\n",
       "      <td>3</td>\n",
       "      <td>3</td>\n",
       "      <td>7</td>\n",
       "    </tr>\n",
       "    <tr>\n",
       "      <th>Wed</th>\n",
       "      <td>9</td>\n",
       "      <td>19</td>\n",
       "      <td>18</td>\n",
       "    </tr>\n",
       "    <tr>\n",
       "      <th>Thus</th>\n",
       "      <td>4</td>\n",
       "      <td>6</td>\n",
       "      <td>12</td>\n",
       "    </tr>\n",
       "    <tr>\n",
       "      <th>Fri</th>\n",
       "      <td>1</td>\n",
       "      <td>6</td>\n",
       "      <td>7</td>\n",
       "    </tr>\n",
       "  </tbody>\n",
       "</table>\n",
       "</div>"
      ],
      "text/plain": [
       "      Almond Butter  Peanut Butter  Cashew Butter\n",
       "Mon              12             15              0\n",
       "Tues              3              3              7\n",
       "Wed               9             19             18\n",
       "Thus              4              6             12\n",
       "Fri               1              6              7"
      ]
     },
     "execution_count": 406,
     "metadata": {},
     "output_type": "execute_result"
    }
   ],
   "source": [
    "weekly_sales"
   ]
  },
  {
   "cell_type": "code",
   "execution_count": 412,
   "id": "811869b4-f2ab-49c5-bbeb-1277a3ecaae3",
   "metadata": {},
   "outputs": [],
   "source": [
    "prices = np.array([10., 8., 12.]).reshape(1, 3)"
   ]
  },
  {
   "cell_type": "code",
   "execution_count": 418,
   "id": "80f4af75-3864-400c-8ea2-212559c25d41",
   "metadata": {},
   "outputs": [],
   "source": [
    "butter_prices = pd.DataFrame(prices, index=['Price'], \n",
    "                             columns=['Almond Butter', 'Peanut Butter', 'Cashew Butter'])"
   ]
  },
  {
   "cell_type": "code",
   "execution_count": 416,
   "id": "1745cf29-9a96-4813-9b7b-26c60803cbfe",
   "metadata": {},
   "outputs": [
    {
     "data": {
      "text/html": [
       "<div>\n",
       "<style scoped>\n",
       "    .dataframe tbody tr th:only-of-type {\n",
       "        vertical-align: middle;\n",
       "    }\n",
       "\n",
       "    .dataframe tbody tr th {\n",
       "        vertical-align: top;\n",
       "    }\n",
       "\n",
       "    .dataframe thead th {\n",
       "        text-align: right;\n",
       "    }\n",
       "</style>\n",
       "<table border=\"1\" class=\"dataframe\">\n",
       "  <thead>\n",
       "    <tr style=\"text-align: right;\">\n",
       "      <th></th>\n",
       "      <th>Almond Butter</th>\n",
       "      <th>Peanut Butter</th>\n",
       "      <th>Cashew Butter</th>\n",
       "    </tr>\n",
       "  </thead>\n",
       "  <tbody>\n",
       "    <tr>\n",
       "      <th>Price</th>\n",
       "      <td>10.0</td>\n",
       "      <td>8.0</td>\n",
       "      <td>12.0</td>\n",
       "    </tr>\n",
       "  </tbody>\n",
       "</table>\n",
       "</div>"
      ],
      "text/plain": [
       "       Almond Butter  Peanut Butter  Cashew Butter\n",
       "Price           10.0            8.0           12.0"
      ]
     },
     "execution_count": 416,
     "metadata": {},
     "output_type": "execute_result"
    }
   ],
   "source": [
    "butter_prices"
   ]
  },
  {
   "cell_type": "code",
   "execution_count": 426,
   "id": "4af03dd2-e921-4102-9696-c77277cfd1b0",
   "metadata": {},
   "outputs": [
    {
     "data": {
      "text/plain": [
       "((5, 3), (1, 3))"
      ]
     },
     "execution_count": 426,
     "metadata": {},
     "output_type": "execute_result"
    }
   ],
   "source": [
    "weekly_sales.shape, butter_prices.shape"
   ]
  },
  {
   "cell_type": "code",
   "execution_count": 428,
   "id": "665e2317-ca7b-416e-b3fe-c2519345d2ee",
   "metadata": {},
   "outputs": [],
   "source": [
    "revenue = weekly_sales.dot(butter_prices.T)"
   ]
  },
  {
   "cell_type": "code",
   "execution_count": 430,
   "id": "713dc120-f7ca-4281-b282-bce4d3f8074b",
   "metadata": {},
   "outputs": [
    {
     "data": {
      "text/html": [
       "<div>\n",
       "<style scoped>\n",
       "    .dataframe tbody tr th:only-of-type {\n",
       "        vertical-align: middle;\n",
       "    }\n",
       "\n",
       "    .dataframe tbody tr th {\n",
       "        vertical-align: top;\n",
       "    }\n",
       "\n",
       "    .dataframe thead th {\n",
       "        text-align: right;\n",
       "    }\n",
       "</style>\n",
       "<table border=\"1\" class=\"dataframe\">\n",
       "  <thead>\n",
       "    <tr style=\"text-align: right;\">\n",
       "      <th></th>\n",
       "      <th>Price</th>\n",
       "    </tr>\n",
       "  </thead>\n",
       "  <tbody>\n",
       "    <tr>\n",
       "      <th>Mon</th>\n",
       "      <td>240.0</td>\n",
       "    </tr>\n",
       "    <tr>\n",
       "      <th>Tues</th>\n",
       "      <td>138.0</td>\n",
       "    </tr>\n",
       "    <tr>\n",
       "      <th>Wed</th>\n",
       "      <td>458.0</td>\n",
       "    </tr>\n",
       "    <tr>\n",
       "      <th>Thus</th>\n",
       "      <td>232.0</td>\n",
       "    </tr>\n",
       "    <tr>\n",
       "      <th>Fri</th>\n",
       "      <td>142.0</td>\n",
       "    </tr>\n",
       "  </tbody>\n",
       "</table>\n",
       "</div>"
      ],
      "text/plain": [
       "      Price\n",
       "Mon   240.0\n",
       "Tues  138.0\n",
       "Wed   458.0\n",
       "Thus  232.0\n",
       "Fri   142.0"
      ]
     },
     "execution_count": 430,
     "metadata": {},
     "output_type": "execute_result"
    }
   ],
   "source": [
    "revenue"
   ]
  },
  {
   "cell_type": "code",
   "execution_count": 434,
   "id": "cdcfce35-d606-4c37-8e0e-f24baf27cd1e",
   "metadata": {},
   "outputs": [],
   "source": [
    "weekly_sales['Revenue'] = revenue"
   ]
  },
  {
   "cell_type": "code",
   "execution_count": 436,
   "id": "0a822944-190e-48ce-b36a-23a5a44e992a",
   "metadata": {},
   "outputs": [
    {
     "data": {
      "text/html": [
       "<div>\n",
       "<style scoped>\n",
       "    .dataframe tbody tr th:only-of-type {\n",
       "        vertical-align: middle;\n",
       "    }\n",
       "\n",
       "    .dataframe tbody tr th {\n",
       "        vertical-align: top;\n",
       "    }\n",
       "\n",
       "    .dataframe thead th {\n",
       "        text-align: right;\n",
       "    }\n",
       "</style>\n",
       "<table border=\"1\" class=\"dataframe\">\n",
       "  <thead>\n",
       "    <tr style=\"text-align: right;\">\n",
       "      <th></th>\n",
       "      <th>Almond Butter</th>\n",
       "      <th>Peanut Butter</th>\n",
       "      <th>Cashew Butter</th>\n",
       "      <th>Revenue</th>\n",
       "    </tr>\n",
       "  </thead>\n",
       "  <tbody>\n",
       "    <tr>\n",
       "      <th>Mon</th>\n",
       "      <td>12</td>\n",
       "      <td>15</td>\n",
       "      <td>0</td>\n",
       "      <td>240.0</td>\n",
       "    </tr>\n",
       "    <tr>\n",
       "      <th>Tues</th>\n",
       "      <td>3</td>\n",
       "      <td>3</td>\n",
       "      <td>7</td>\n",
       "      <td>138.0</td>\n",
       "    </tr>\n",
       "    <tr>\n",
       "      <th>Wed</th>\n",
       "      <td>9</td>\n",
       "      <td>19</td>\n",
       "      <td>18</td>\n",
       "      <td>458.0</td>\n",
       "    </tr>\n",
       "    <tr>\n",
       "      <th>Thus</th>\n",
       "      <td>4</td>\n",
       "      <td>6</td>\n",
       "      <td>12</td>\n",
       "      <td>232.0</td>\n",
       "    </tr>\n",
       "    <tr>\n",
       "      <th>Fri</th>\n",
       "      <td>1</td>\n",
       "      <td>6</td>\n",
       "      <td>7</td>\n",
       "      <td>142.0</td>\n",
       "    </tr>\n",
       "  </tbody>\n",
       "</table>\n",
       "</div>"
      ],
      "text/plain": [
       "      Almond Butter  Peanut Butter  Cashew Butter  Revenue\n",
       "Mon              12             15              0    240.0\n",
       "Tues              3              3              7    138.0\n",
       "Wed               9             19             18    458.0\n",
       "Thus              4              6             12    232.0\n",
       "Fri               1              6              7    142.0"
      ]
     },
     "execution_count": 436,
     "metadata": {},
     "output_type": "execute_result"
    }
   ],
   "source": [
    "weekly_sales"
   ]
  }
 ],
 "metadata": {
  "kernelspec": {
   "display_name": "Python 3 (ipykernel)",
   "language": "python",
   "name": "python3"
  },
  "language_info": {
   "codemirror_mode": {
    "name": "ipython",
    "version": 3
   },
   "file_extension": ".py",
   "mimetype": "text/x-python",
   "name": "python",
   "nbconvert_exporter": "python",
   "pygments_lexer": "ipython3",
   "version": "3.12.4"
  }
 },
 "nbformat": 4,
 "nbformat_minor": 5
}
