{
 "cells": [
  {
   "cell_type": "markdown",
   "id": "1b8b1eb9-2f23-4319-bfe0-012ee07c8554",
   "metadata": {},
   "source": [
    "<img src=\"https://user-images.githubusercontent.com/7065401/39118381-910eb0c2-46e9-11e8-81f1-a5b897401c23.jpeg\"\n",
    "    style=\"width:300px; float: right; margin: 0 40px 40px 40px;\"></img>\n",
    "\n",
    "# Numpy: Numeric computing library\n",
    "\n",
    "NumPy (Numerical Python) is one of the core packages for numerical computing in Python. Pandas, Matplotlib, Statmodels and many other Scientific libraries rely on NumPy.\n",
    "\n",
    "NumPy major contributions are:\n",
    "\n",
    "* Efficient numeric computation with C primitives\n",
    "* Efficient collections with vectorized operations\n",
    "* An integrated and natural Linear Algebra API\n",
    "* A C API for connecting NumPy with libraries written in C, C++, or FORTRAN.\n",
    "\n",
    "Let's develop on efficiency. In Python, **everything is an object**, which means that even simple ints are also objects, with all the required machinery to make object work. We call them \"Boxed Ints\". In contrast, NumPy uses primitive numeric types (floats, ints) which makes storing and computation efficient."
   ]
  },
  {
   "cell_type": "markdown",
   "id": "d1687bad-59f7-4bef-abbc-d4aa898c19a2",
   "metadata": {},
   "source": [
    "<img src=\"https://docs.google.com/drawings/d/e/2PACX-1vTkDtKYMUVdpfVb3TTpr_8rrVtpal2dOknUUEOu85wJ1RitzHHf5nsJqz1O0SnTt8BwgJjxXMYXyIqs/pub?w=726&h=396\" />\n"
   ]
  },
  {
   "cell_type": "markdown",
   "id": "21cd8eb6-73ef-4987-b5bb-17e207d33882",
   "metadata": {},
   "source": [
    "## Key aspects of NumPy in Python:"
   ]
  },
  {
   "cell_type": "markdown",
   "id": "ed0af21f-f7c5-40cc-a13f-6e5dcfa24f25",
   "metadata": {},
   "source": [
    "- Efficient data structures: NumPy introduces efficient array structures, which are faster and more memory-efficient than Python lists. This is crucial for handling large data sets.\n",
    "- Multi-dimensional arrays: NumPy allows you to work with multi-dimensional arrays, enabling the representation of matrices and tensors. This is particularly useful in scientific computing.\n",
    "- Element-wise operations: NumPy simplifies element-wise mathematical operations on arrays, making it easy to perform calculations on entire data sets in one go.\n",
    "- Random number generation: It provides a wide range of functions for generating random numbers and random data, which is useful for simulations and statistical analysis.\n",
    "- Integration with other libraries: NumPy seamlessly integrates with other data science libraries like SciPy, Pandas, and Matplotlib, enhancing its utility in various domains.\n",
    "- Performance optimization: NumPy functions are implemented in low-level languages like C and Fortran, which significantly boosts their performance. It's a go-to choice when speed is essential."
   ]
  },
  {
   "cell_type": "markdown",
   "id": "1ed01823-9490-4269-8f38-2f250469b063",
   "metadata": {},
   "source": [
    "## NumPy arrays"
   ]
  },
  {
   "cell_type": "markdown",
   "id": "4205581d-e199-4ea8-b0ba-f02a8e3e4295",
   "metadata": {},
   "source": [
    "You can create NumPy arrays from Python lists. These arrays can be one-dimensional or multi-dimensional."
   ]
  },
  {
   "cell_type": "markdown",
   "id": "338a6605-7d20-463a-97a3-90a821558b55",
   "metadata": {},
   "source": [
    "NumPy array attributes:\n",
    "- ndim represents the number of dimensions (axes) of the ndarray.\n",
    "- shape is a tuple of integers representing the size of the ndarray in each dimension.\n",
    "- size is the total number of elements in the ndarray.\n",
    "- dtype tells the data type of the elements of a NumPy array.\n",
    "- itemsize returns the size (in bytes) of each element of a NumPy array."
   ]
  },
  {
   "cell_type": "markdown",
   "id": "0f3882b9-59e1-445e-9127-f2460f13ce67",
   "metadata": {},
   "source": [
    "## Broadcasting and Vectorized operations\n",
    "\n",
    "Broadcasting is simply a set of rules for applying binary ufuncs (e.g., addition, subtraction, multiplication, etc.) on arrays of different sizes.\n",
    "\n",
    "![image-broadcasting](https://jakevdp.github.io/PythonDataScienceHandbook/figures/02.05-broadcasting.png)"
   ]
  },
  {
   "cell_type": "markdown",
   "id": "6e86d889-82ce-4226-977f-c19d7261f275",
   "metadata": {},
   "source": [
    "## Basic operations"
   ]
  },
  {
   "cell_type": "markdown",
   "id": "6daa9ea5-7eeb-442a-b2ba-db85027f2ef0",
   "metadata": {},
   "source": [
    "| Operation | Description | Example |\n",
    "| --- | --- | --- |\n",
    "| Array Creation | Creating a NumPy array. | `arr = np.array([1, 2, 3, 4, 5])` |\n",
    "| Element-Wise Arithmetic | Element-wise addition, subtraction, and so on. | `result = arr1 + arr2` |\n",
    "| Scalar Arithmetic | Scalar addition, subtraction, and so on. | `result = arr * 2` |\n",
    "| Element-Wise Functions | Applying functions to each element. | `result = np.sqrt(arr)` |\n",
    "| Sum and Mean | Calculating the sum and mean of an array. | `total = np.sum(arr)`<br>`average = np.mean(arr)` |\n",
    "| Maximum and Minimum Values | Finding the maximum and minimum values. | `max_val = np.max(arr)`<br>`min_val = np.min(arr)` |\n",
    "| Reshaping | Changing the shape of an array. | `reshaped_arr = arr.reshape(2, 3)` |\n",
    "| Transposition | Transposing a multi-dimensional array. | `transposed_arr = arr.T` |\n",
    "| Matrix Multiplication | Performing matrix multiplication. | `result = np.dot(matrix1, matrix2)` |"
   ]
  }
 ],
 "metadata": {
  "kernelspec": {
   "display_name": "Python 3 (ipykernel)",
   "language": "python",
   "name": "python3"
  },
  "language_info": {
   "codemirror_mode": {
    "name": "ipython",
    "version": 3
   },
   "file_extension": ".py",
   "mimetype": "text/x-python",
   "name": "python",
   "nbconvert_exporter": "python",
   "pygments_lexer": "ipython3",
   "version": "3.12.4"
  }
 },
 "nbformat": 4,
 "nbformat_minor": 5
}
